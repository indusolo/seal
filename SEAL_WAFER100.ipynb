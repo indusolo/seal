{
 "cells": [
  {
   "cell_type": "code",
   "execution_count": 1,
   "metadata": {
    "executionInfo": {
     "elapsed": 2644,
     "status": "ok",
     "timestamp": 1669003220968,
     "user": {
      "displayName": "Indu Avinash",
      "userId": "17431670914384041031"
     },
     "user_tz": -330
    },
    "id": "ZuXg0l6zDZnZ"
   },
   "outputs": [],
   "source": [
    "import torch\n",
    "torch.manual_seed(7)\n",
    "import torch.nn as nn\n",
    "\n",
    "import numpy as np\n",
    "np.random.seed(6)\n",
    "# from tqdm import tqdm\n",
    "# from torchvision.utils import save_image, make_grid\n",
    "from torch.utils.data import TensorDataset\n",
    "from torch.autograd.variable import Variable\n",
    "from sklearn.preprocessing import MinMaxScaler\n",
    "from imblearn.over_sampling import RandomOverSampler\n",
    "import sys\n",
    "\n",
    "import random\n",
    "random.seed(6)\n",
    "import matplotlib.pyplot as plt\n",
    "from torch.utils.data import DataLoader, random_split\n",
    "# kwargs = {'num_workers': 1, 'pin_memory': True} \n",
    "num_workers = 0\n"
   ]
  },
  {
   "cell_type": "code",
   "execution_count": 2,
   "metadata": {
    "colab": {
     "base_uri": "https://localhost:8080/"
    },
    "executionInfo": {
     "elapsed": 1579,
     "status": "ok",
     "timestamp": 1669003238700,
     "user": {
      "displayName": "Indu Avinash",
      "userId": "17431670914384041031"
     },
     "user_tz": -330
    },
    "id": "xonxmjRCsSn8",
    "outputId": "de9ac662-d22f-42e4-cccb-09a2c81cb704"
   },
   "outputs": [
    {
     "data": {
      "text/plain": [
       "15"
      ]
     },
     "execution_count": 2,
     "metadata": {},
     "output_type": "execute_result"
    }
   ],
   "source": [
    "myfile = open('wfr_out100_1.txt', 'w')\n",
    "myfile.write('output printing')\n",
    "  # print('output printing', file =f)"
   ]
  },
  {
   "cell_type": "code",
   "execution_count": 3,
   "metadata": {
    "colab": {
     "base_uri": "https://localhost:8080/"
    },
    "executionInfo": {
     "elapsed": 568,
     "status": "ok",
     "timestamp": 1669003256286,
     "user": {
      "displayName": "Indu Avinash",
      "userId": "17431670914384041031"
     },
     "user_tz": -330
    },
    "id": "h5wQljoxFiFZ",
    "outputId": "3bcfb8e5-705b-413e-bf0e-ef0f0b6dbc56"
   },
   "outputs": [
    {
     "name": "stdout",
     "output_type": "stream",
     "text": [
      "cuda\n",
      "True\n"
     ]
    }
   ],
   "source": [
    "# VAE Model Hyperparameters\n",
    "DEVICE = 'cuda' if torch.cuda.is_available() else 'cpu' #torch.device(\"cuda\" if cuda else \"cpu\")\n",
    "print(DEVICE)\n",
    "num_classes = 10\n",
    "\n",
    "batch_size = 50\n",
    "\n",
    "x_dim  = 2704\n",
    "hidden_dim1 = 1400\n",
    "hidden_dim2 = 700\n",
    "hidden_dim3 = 350\n",
    "latent_dim = 32  #32\n",
    "\n",
    "lr = 1e-4\n",
    "\n",
    "epochs = 500\n",
    "\n",
    "train_on_gpu = torch.cuda.is_available()\n",
    "print(train_on_gpu)"
   ]
  },
  {
   "cell_type": "markdown",
   "metadata": {
    "id": "sG0Rlox7F9V1"
   },
   "source": [
    "#### Create imbalanced dataset"
   ]
  },
  {
   "cell_type": "code",
   "execution_count": 4,
   "metadata": {
    "executionInfo": {
     "elapsed": 552,
     "status": "ok",
     "timestamp": 1669003273133,
     "user": {
      "displayName": "Indu Avinash",
      "userId": "17431670914384041031"
     },
     "user_tz": -330
    },
    "id": "vvCy55Cmd4tE"
   },
   "outputs": [],
   "source": [
    "Trn_imb_set = (900, 800, 700, 600, 500, 400, 300, 200, 100, 50)\n",
    "imb_index = np.insert(np.cumsum(Trn_imb_set), 0, 0)\n",
    "Train_file = \"Wafer_trainData.csv\"\n",
    "Test_file = \"Wafer_testData100.csv\""
   ]
  },
  {
   "cell_type": "code",
   "execution_count": 5,
   "metadata": {
    "executionInfo": {
     "elapsed": 10164,
     "status": "ok",
     "timestamp": 1669003287155,
     "user": {
      "displayName": "Indu Avinash",
      "userId": "17431670914384041031"
     },
     "user_tz": -330
    },
    "id": "qtnPUj-DeAZz"
   },
   "outputs": [],
   "source": [
    "data = np.loadtxt(Train_file, delimiter=',')\n",
    "ximb_samples = torch.tensor(data[:, :-1])\n",
    "yimb_samples = torch.tensor(data[:, -1])"
   ]
  },
  {
   "cell_type": "code",
   "execution_count": 6,
   "metadata": {
    "executionInfo": {
     "elapsed": 1046,
     "status": "ok",
     "timestamp": 1669003363871,
     "user": {
      "displayName": "Indu Avinash",
      "userId": "17431670914384041031"
     },
     "user_tz": -330
    },
    "id": "1tF317vjGyTK"
   },
   "outputs": [],
   "source": [
    "ximb_samples = ximb_samples.to(torch.float32)\n",
    "yimb_samples = yimb_samples.to(torch.uint8)\n",
    "train_data = TensorDataset(ximb_samples,yimb_samples)"
   ]
  },
  {
   "cell_type": "code",
   "execution_count": 7,
   "metadata": {
    "executionInfo": {
     "elapsed": 5,
     "status": "ok",
     "timestamp": 1669003366288,
     "user": {
      "displayName": "Indu Avinash",
      "userId": "17431670914384041031"
     },
     "user_tz": -330
    },
    "id": "Cc9wh72ZG6Wv"
   },
   "outputs": [],
   "source": [
    "# train, valid = random_split(train_data,[7200,1800]) \n",
    "train_loader = DataLoader(dataset=train_data, batch_size=batch_size, shuffle=True, num_workers=num_workers)\n",
    "# valid_loader = DataLoader(dataset=valid, batch_size=batch_size, shuffle=True, **kwargs)"
   ]
  },
  {
   "cell_type": "markdown",
   "metadata": {
    "id": "iA01h2uXHILA"
   },
   "source": [
    "#### Test imbalanced dataset "
   ]
  },
  {
   "cell_type": "code",
   "execution_count": 8,
   "metadata": {
    "executionInfo": {
     "elapsed": 3123,
     "status": "ok",
     "timestamp": 1669003373539,
     "user": {
      "displayName": "Indu Avinash",
      "userId": "17431670914384041031"
     },
     "user_tz": -330
    },
    "id": "q-RQl58XJkQf"
   },
   "outputs": [],
   "source": [
    "data = np.loadtxt(Test_file, delimiter=',')\n",
    "xtest_samples = torch.tensor(data[:, :-1])\n",
    "ytest_samples = torch.tensor(data[:, -1])"
   ]
  },
  {
   "cell_type": "code",
   "execution_count": 9,
   "metadata": {
    "executionInfo": {
     "elapsed": 10,
     "status": "ok",
     "timestamp": 1669003373540,
     "user": {
      "displayName": "Indu Avinash",
      "userId": "17431670914384041031"
     },
     "user_tz": -330
    },
    "id": "5fkyG_SlMpov"
   },
   "outputs": [],
   "source": [
    "xtest_samples = xtest_samples.to(torch.float32)\n",
    "ytest_samples = ytest_samples.to(torch.uint8)\n",
    "test_data = TensorDataset(xtest_samples,ytest_samples)"
   ]
  },
  {
   "cell_type": "code",
   "execution_count": 10,
   "metadata": {
    "executionInfo": {
     "elapsed": 4,
     "status": "ok",
     "timestamp": 1669003374064,
     "user": {
      "displayName": "Indu Avinash",
      "userId": "17431670914384041031"
     },
     "user_tz": -330
    },
    "id": "uUIZ5sLeILZd"
   },
   "outputs": [],
   "source": [
    "test_loader = DataLoader(dataset=test_data, batch_size=1000, shuffle=True, num_workers=num_workers)"
   ]
  },
  {
   "cell_type": "markdown",
   "metadata": {
    "id": "UdInftHFIU0K"
   },
   "source": [
    "#### Variational Autoencoder - VAE"
   ]
  },
  {
   "cell_type": "code",
   "execution_count": 11,
   "metadata": {
    "executionInfo": {
     "elapsed": 5,
     "status": "ok",
     "timestamp": 1669003376420,
     "user": {
      "displayName": "Indu Avinash",
      "userId": "17431670914384041031"
     },
     "user_tz": -330
    },
    "id": "U3MYzShfIQ1b"
   },
   "outputs": [],
   "source": [
    "# Encoder\n",
    "\n",
    "class Encoder(nn.Module):\n",
    "    \n",
    "    def __init__(self, input_dim, hidden_dim1, hidden_dim2,hidden_dim3, latent_dim):\n",
    "        super(Encoder, self).__init__()\n",
    "\n",
    "        self.FC_input = nn.Linear(input_dim, hidden_dim1)\n",
    "        self.FC_input2 = nn.Linear(hidden_dim1, hidden_dim2)\n",
    "        self.FC_input3 = nn.Linear(hidden_dim2, hidden_dim3)\n",
    "        self.FC_mean  = nn.Linear(hidden_dim3, latent_dim)\n",
    "        self.FC_var   = nn.Linear (hidden_dim3, latent_dim)\n",
    "        \n",
    "        self.LeakyReLU = nn.LeakyReLU(0.2)\n",
    "        \n",
    "        self.training = True\n",
    "        \n",
    "    def forward(self, x):\n",
    "        h_       = self.LeakyReLU(self.FC_input(x))\n",
    "        h_       = self.LeakyReLU(self.FC_input2(h_))\n",
    "        h_       = self.LeakyReLU(self.FC_input3(h_))\n",
    "        mean     = self.FC_mean(h_)\n",
    "        log_var  = self.FC_var(h_)                    \n",
    "                                                \n",
    "        \n",
    "        return mean, log_var"
   ]
  },
  {
   "cell_type": "code",
   "execution_count": 12,
   "metadata": {
    "executionInfo": {
     "elapsed": 6,
     "status": "ok",
     "timestamp": 1669003377627,
     "user": {
      "displayName": "Indu Avinash",
      "userId": "17431670914384041031"
     },
     "user_tz": -330
    },
    "id": "gqZlrPLIIwVp"
   },
   "outputs": [],
   "source": [
    "# Decoder\n",
    "\n",
    "class Decoder(nn.Module):\n",
    "    def __init__(self, latent_dim, hidden_dim1,hidden_dim2, hidden_dim3, output_dim):\n",
    "        super(Decoder, self).__init__()\n",
    "        self.FC_hidden = nn.Linear(latent_dim, hidden_dim3)\n",
    "        self.FC_hidden2 = nn.Linear(hidden_dim3, hidden_dim2)\n",
    "        self.FC_hidden3 = nn.Linear(hidden_dim2, hidden_dim1)\n",
    "        self.FC_output = nn.Linear(hidden_dim1, output_dim)\n",
    "        \n",
    "        self.LeakyReLU = nn.LeakyReLU(0.2)\n",
    "        \n",
    "    def forward(self, x):\n",
    "        h     = self.LeakyReLU(self.FC_hidden(x))\n",
    "        h     = self.LeakyReLU(self.FC_hidden2(h))\n",
    "        h     = self.LeakyReLU(self.FC_hidden3(h))\n",
    "\n",
    "        x_hat = torch.sigmoid(self.FC_output(h))\n",
    "        return x_hat\n",
    "        "
   ]
  },
  {
   "cell_type": "code",
   "execution_count": 13,
   "metadata": {
    "executionInfo": {
     "elapsed": 4,
     "status": "ok",
     "timestamp": 1669003378366,
     "user": {
      "displayName": "Indu Avinash",
      "userId": "17431670914384041031"
     },
     "user_tz": -330
    },
    "id": "cFSWxljxI34I"
   },
   "outputs": [],
   "source": [
    "class Model(nn.Module):\n",
    "    def __init__(self, Encoder, Decoder):\n",
    "        super(Model, self).__init__()\n",
    "        self.Encoder = Encoder\n",
    "        self.Decoder = Decoder\n",
    "        \n",
    "    def reparameterization(self, mean, var):\n",
    "        epsilon = torch.randn_like(var).to(DEVICE)               \n",
    "        z = mean + var*epsilon                          \n",
    "        return z\n",
    "        \n",
    "                \n",
    "    def forward(self, x):\n",
    "        mean, log_var = self.Encoder(x)\n",
    "        z = self.reparameterization(mean, torch.exp(0.5 * log_var))\n",
    "        x_hat            = self.Decoder(z)\n",
    "        \n",
    "        return x_hat, mean, log_var"
   ]
  },
  {
   "cell_type": "code",
   "execution_count": 14,
   "metadata": {
    "executionInfo": {
     "elapsed": 3546,
     "status": "ok",
     "timestamp": 1669003383198,
     "user": {
      "displayName": "Indu Avinash",
      "userId": "17431670914384041031"
     },
     "user_tz": -330
    },
    "id": "s9m25O-FJDNZ"
   },
   "outputs": [],
   "source": [
    "encoder = Encoder(input_dim=x_dim, hidden_dim1=hidden_dim1,hidden_dim2=hidden_dim2,hidden_dim3=hidden_dim3, latent_dim=latent_dim)\n",
    "decoder = Decoder(latent_dim=latent_dim, hidden_dim1 = hidden_dim1,hidden_dim2=hidden_dim2,hidden_dim3=hidden_dim3, output_dim = x_dim)\n",
    "\n",
    "model = Model(Encoder=encoder, Decoder=decoder).to(DEVICE)"
   ]
  },
  {
   "cell_type": "code",
   "execution_count": 15,
   "metadata": {
    "executionInfo": {
     "elapsed": 9,
     "status": "ok",
     "timestamp": 1669003383200,
     "user": {
      "displayName": "Indu Avinash",
      "userId": "17431670914384041031"
     },
     "user_tz": -330
    },
    "id": "1Ra_D0eeJJBY"
   },
   "outputs": [],
   "source": [
    "from torch.optim import Adam\n",
    "BCE_loss = nn.BCELoss()\n",
    "\n",
    "def loss_function(x, x_hat, mean, log_var):\n",
    "    reproduction_loss = nn.functional.binary_cross_entropy(x_hat, x, reduction='sum')# nn.functional.mse_loss(x_hat, x, reduction='sum')\n",
    "    KLD      = - 0.5 * torch.sum(1+ log_var - mean.pow(2) - log_var.exp())\n",
    "    w_loss = x.mean() -x_hat.mean() #mean(x,x_hat) # K.mean(y_true * y_pred)\n",
    "\n",
    "    return reproduction_loss + KLD + w_loss\n",
    "\n",
    "\n",
    "optimizer_VAE = Adam(model.parameters(), lr=lr)"
   ]
  },
  {
   "cell_type": "markdown",
   "metadata": {
    "id": "TOqmXKeAJcfo"
   },
   "source": [
    "#### Generative Adversarial Nets - GAN"
   ]
  },
  {
   "cell_type": "code",
   "execution_count": 16,
   "metadata": {
    "executionInfo": {
     "elapsed": 10,
     "status": "ok",
     "timestamp": 1669003383202,
     "user": {
      "displayName": "Indu Avinash",
      "userId": "17431670914384041031"
     },
     "user_tz": -330
    },
    "id": "0qP7MOX5JQNv"
   },
   "outputs": [],
   "source": [
    "batch_size_GAN = 50"
   ]
  },
  {
   "cell_type": "code",
   "execution_count": 17,
   "metadata": {
    "executionInfo": {
     "elapsed": 3,
     "status": "ok",
     "timestamp": 1669003383886,
     "user": {
      "displayName": "Indu Avinash",
      "userId": "17431670914384041031"
     },
     "user_tz": -330
    },
    "id": "dRb6QwMkSP51"
   },
   "outputs": [],
   "source": [
    "class Generator(nn.Module):\n",
    "    def __init__(self):\n",
    "        super(Generator, self).__init__()\n",
    "        self.n_features = 128+10\n",
    "        self.n_out = latent_dim #64\n",
    "        self.label_embedding = nn.Embedding(10, 10)\n",
    "        self.fc0 = nn.Sequential(\n",
    "                    nn.Linear(self.n_features, 256),\n",
    "                    nn.LeakyReLU(0.2)\n",
    "                    )\n",
    "        self.fc1 = nn.Sequential(\n",
    "                    nn.Linear(256, 512),\n",
    "                    nn.LeakyReLU(0.2)\n",
    "                    )\n",
    "        \n",
    "        self.fc3 = nn.Sequential(\n",
    "                    nn.Linear(512, self.n_out),\n",
    "                    nn.LeakyReLU(0.2)\n",
    "                    #nn.Tanh()\n",
    "                    )\n",
    "    def forward(self, x, labels):\n",
    "        c = self.label_embedding(labels)\n",
    "        # print(x.shape,c.shape)\n",
    "        x = torch.cat([x,c], 1)\n",
    "        x = self.fc0(x)\n",
    "        x = self.fc1(x)\n",
    "        #x = self.fc2(x)\n",
    "        x = self.fc3(x)\n",
    "        return x"
   ]
  },
  {
   "cell_type": "code",
   "execution_count": 18,
   "metadata": {
    "executionInfo": {
     "elapsed": 4,
     "status": "ok",
     "timestamp": 1669003384571,
     "user": {
      "displayName": "Indu Avinash",
      "userId": "17431670914384041031"
     },
     "user_tz": -330
    },
    "id": "_8QPySJUSVLF"
   },
   "outputs": [],
   "source": [
    "class Discriminator(nn.Module):\n",
    "    def __init__(self):\n",
    "        super(Discriminator, self).__init__()\n",
    "        self.n_in = latent_dim + 10 #64 + 10\n",
    "        self.n_out = 1\n",
    "        self.label_embedding = nn.Embedding(10, 10)\n",
    "\n",
    "        self.fc0 = nn.Sequential(\n",
    "                    nn.Linear(self.n_in, 512),\n",
    "                    nn.LeakyReLU(0.2),\n",
    "                    nn.Dropout(0.3)\n",
    "                    )\n",
    "        self.fc1 = nn.Sequential(\n",
    "                    nn.Linear(512, 256),\n",
    "                    nn.LeakyReLU(0.2),\n",
    "                    nn.Dropout(0.3)\n",
    "                    )\n",
    "        self.fc2 = nn.Sequential(\n",
    "                    nn.Linear(256, 128),\n",
    "                    nn.LeakyReLU(0.2),\n",
    "                    nn.Dropout(0.3)\n",
    "                    )\n",
    "        self.fc3 = nn.Sequential(\n",
    "                    nn.Linear(128, self.n_out),\n",
    "                    nn.Sigmoid()\n",
    "                    )\n",
    "    def forward(self, x, labels):\n",
    "        c = self.label_embedding(labels)\n",
    "        x = torch.cat([x, c], 1)\n",
    "        #x = x.view(-1, 784)\n",
    "        x = self.fc0(x)\n",
    "        x = self.fc1(x)\n",
    "        x = self.fc2(x)\n",
    "        x = self.fc3(x)\n",
    "        return x\n"
   ]
  },
  {
   "cell_type": "code",
   "execution_count": 19,
   "metadata": {
    "colab": {
     "base_uri": "https://localhost:8080/"
    },
    "executionInfo": {
     "elapsed": 4,
     "status": "ok",
     "timestamp": 1669003385131,
     "user": {
      "displayName": "Indu Avinash",
      "userId": "17431670914384041031"
     },
     "user_tz": -330
    },
    "id": "Lsg_kUyOSb6T",
    "outputId": "2eb39346-5dbc-459c-fbe4-7bdc25d97872"
   },
   "outputs": [
    {
     "data": {
      "text/plain": [
       "Discriminator(\n",
       "  (label_embedding): Embedding(10, 10)\n",
       "  (fc0): Sequential(\n",
       "    (0): Linear(in_features=42, out_features=512, bias=True)\n",
       "    (1): LeakyReLU(negative_slope=0.2)\n",
       "    (2): Dropout(p=0.3, inplace=False)\n",
       "  )\n",
       "  (fc1): Sequential(\n",
       "    (0): Linear(in_features=512, out_features=256, bias=True)\n",
       "    (1): LeakyReLU(negative_slope=0.2)\n",
       "    (2): Dropout(p=0.3, inplace=False)\n",
       "  )\n",
       "  (fc2): Sequential(\n",
       "    (0): Linear(in_features=256, out_features=128, bias=True)\n",
       "    (1): LeakyReLU(negative_slope=0.2)\n",
       "    (2): Dropout(p=0.3, inplace=False)\n",
       "  )\n",
       "  (fc3): Sequential(\n",
       "    (0): Linear(in_features=128, out_features=1, bias=True)\n",
       "    (1): Sigmoid()\n",
       "  )\n",
       ")"
      ]
     },
     "execution_count": 19,
     "metadata": {},
     "output_type": "execute_result"
    }
   ],
   "source": [
    "generator = Generator()\n",
    "discriminator = Discriminator()\n",
    "\n",
    "generator.to(DEVICE)\n",
    "discriminator.to(DEVICE)"
   ]
  },
  {
   "cell_type": "code",
   "execution_count": 20,
   "metadata": {
    "executionInfo": {
     "elapsed": 3,
     "status": "ok",
     "timestamp": 1669003387123,
     "user": {
      "displayName": "Indu Avinash",
      "userId": "17431670914384041031"
     },
     "user_tz": -330
    },
    "id": "JsvjtcXxVieU"
   },
   "outputs": [],
   "source": [
    "g_optim = Adam(generator.parameters(), lr=2e-4)\n",
    "d_optim = Adam(discriminator.parameters(), lr=2e-4)\n",
    "\n",
    "g_losses = []\n",
    "d_losses = []\n",
    "\n",
    "criterion = nn.MSELoss() "
   ]
  },
  {
   "cell_type": "code",
   "execution_count": 21,
   "metadata": {
    "executionInfo": {
     "elapsed": 3,
     "status": "ok",
     "timestamp": 1669003388211,
     "user": {
      "displayName": "Indu Avinash",
      "userId": "17431670914384041031"
     },
     "user_tz": -330
    },
    "id": "X_8b-u3odhj-"
   },
   "outputs": [],
   "source": [
    "reg_loss = nn.MSELoss()"
   ]
  },
  {
   "cell_type": "code",
   "execution_count": 22,
   "metadata": {
    "executionInfo": {
     "elapsed": 3,
     "status": "ok",
     "timestamp": 1669003388798,
     "user": {
      "displayName": "Indu Avinash",
      "userId": "17431670914384041031"
     },
     "user_tz": -330
    },
    "id": "coo5gPAnVptE"
   },
   "outputs": [],
   "source": [
    "def noise(n, n_features=128):\n",
    "    return Variable(torch.randn(n, n_features)).to(DEVICE)\n",
    "\n",
    "def make_ones(size):\n",
    "    data = Variable(torch.ones(size, 1))\n",
    "    return data.to(DEVICE)\n",
    "\n",
    "def make_zeros(size):\n",
    "    data = Variable(torch.zeros(size, 1))\n",
    "    return data.to(DEVICE)"
   ]
  },
  {
   "cell_type": "code",
   "execution_count": 23,
   "metadata": {
    "executionInfo": {
     "elapsed": 4,
     "status": "ok",
     "timestamp": 1669003389900,
     "user": {
      "displayName": "Indu Avinash",
      "userId": "17431670914384041031"
     },
     "user_tz": -330
    },
    "id": "mMhrgajYVupT"
   },
   "outputs": [],
   "source": [
    "def train_discriminator(optimizer, real_data, fake_data,labels):\n",
    "    n = real_data.size(0)\n",
    "\n",
    "    optimizer.zero_grad()\n",
    "    \n",
    "    prediction_real = discriminator(real_data,labels)\n",
    "    error_real = criterion(prediction_real, make_ones(n))\n",
    "    \n",
    "    \n",
    "    prediction_fake = discriminator(fake_data,labels)\n",
    "    error_fake = criterion(prediction_fake, make_zeros(n))\n",
    "    (error_real.detach()+error_fake).backward()\n",
    "    optimizer.step()\n",
    "    \n",
    "    return error_real + error_fake"
   ]
  },
  {
   "cell_type": "code",
   "execution_count": 24,
   "metadata": {
    "executionInfo": {
     "elapsed": 2,
     "status": "ok",
     "timestamp": 1669003390639,
     "user": {
      "displayName": "Indu Avinash",
      "userId": "17431670914384041031"
     },
     "user_tz": -330
    },
    "id": "gzSVHCzNaXz3"
   },
   "outputs": [],
   "source": [
    "def structure_data(real_data,mn_vec):\n",
    "\n",
    "  P_cov = torch.cov(real_data, correction=0)\n",
    "  D, V = torch.linalg.eigh(P_cov)\n",
    "  idx = torch.argsort(D, dim=0,descending = True)\n",
    "  d = D[idx]\n",
    "  V = V[:,idx]\n",
    "  std_vec = torch.randn(batch_size_GAN, latent_dim).to(DEVICE)\n",
    "  a_vec = torch.mul(std_vec.T,d)\n",
    "  a_vec = torch.matmul(V.T,a_vec.T)+mn_vec\n",
    "\n",
    "  return a_vec"
   ]
  },
  {
   "cell_type": "code",
   "execution_count": 25,
   "metadata": {
    "executionInfo": {
     "elapsed": 3,
     "status": "ok",
     "timestamp": 1669003392359,
     "user": {
      "displayName": "Indu Avinash",
      "userId": "17431670914384041031"
     },
     "user_tz": -330
    },
    "id": "EHEgSZFRV-ck"
   },
   "outputs": [],
   "source": [
    "def train_generator(optimizer, fake_data, labels,s_vec):\n",
    "    n = fake_data.size(0)\n",
    "    lambda1 = 0.5\n",
    "    optimizer.zero_grad()\n",
    "    reg1 = (reg_loss(fake_data, s_vec.detach()))\n",
    "    \n",
    "    reg1 *= lambda1\n",
    "    \n",
    "    prediction = discriminator(fake_data,labels)\n",
    "    error0 = criterion(prediction, make_ones(n)) \n",
    "    \n",
    "    error0 += reg1\n",
    "    error0.backward()\n",
    "    optimizer.step()\n",
    "    \n",
    "    return error0"
   ]
  },
  {
   "cell_type": "code",
   "execution_count": 26,
   "metadata": {
    "executionInfo": {
     "elapsed": 3,
     "status": "ok",
     "timestamp": 1669003393031,
     "user": {
      "displayName": "Indu Avinash",
      "userId": "17431670914384041031"
     },
     "user_tz": -330
    },
    "id": "5C41Y4acWI-z"
   },
   "outputs": [],
   "source": [
    "def train4classes10(generator1,discriminator1,train_loader_GAN1,zxmean1):\n",
    "   \n",
    "  k = 1\n",
    "  generator1.train()\n",
    "  discriminator1.train()\n",
    "  \n",
    "  for epoch in range(1):\n",
    "      # print(epoch)\n",
    "      g_error = 0.0\n",
    "      d_error = 0.0\n",
    "      for i, data in enumerate(train_loader_GAN1):\n",
    "          xin, yin = data\n",
    "          yin = yin.type(torch.IntTensor)\n",
    "          yin = torch.squeeze(yin)\n",
    "          yin = yin.to(DEVICE)\n",
    "          n = len(xin)\n",
    "          for j in range(k):\n",
    "              fake_data = generator1(noise(n),yin)#.detach()\n",
    "              real_data = xin.to(DEVICE)\n",
    "              d_error += train_discriminator(d_optim, real_data, fake_data,yin)\n",
    "\n",
    "          struc_vec = structure_data(real_data,zxmean1)    \n",
    "          fake_data = generator1(noise(n),yin)\n",
    "          g_error += train_generator(g_optim, fake_data,yin,struc_vec)\n",
    "                \n",
    "  return generator1,discriminator1\n"
   ]
  },
  {
   "cell_type": "markdown",
   "metadata": {
    "id": "mVcUzEYoW97D"
   },
   "source": [
    "#### Classifier"
   ]
  },
  {
   "cell_type": "code",
   "execution_count": 27,
   "metadata": {
    "executionInfo": {
     "elapsed": 3,
     "status": "ok",
     "timestamp": 1669003394889,
     "user": {
      "displayName": "Indu Avinash",
      "userId": "17431670914384041031"
     },
     "user_tz": -330
    },
    "id": "q07h-4JkWVTy"
   },
   "outputs": [],
   "source": [
    "from time import time"
   ]
  },
  {
   "cell_type": "code",
   "execution_count": 28,
   "metadata": {
    "executionInfo": {
     "elapsed": 3,
     "status": "ok",
     "timestamp": 1669003395553,
     "user": {
      "displayName": "Indu Avinash",
      "userId": "17431670914384041031"
     },
     "user_tz": -330
    },
    "id": "Clf7ZuJJY21S"
   },
   "outputs": [],
   "source": [
    "class Classifier_latent(nn.Module):\n",
    "    def __init__(self):\n",
    "        super(Classifier_latent, self).__init__()\n",
    "        self.n_in = latent_dim\n",
    "        self.n_out = 10\n",
    "        self.fc0 = nn.Sequential(\n",
    "                    nn.Linear(self.n_in, 512),\n",
    "                    nn.ReLU(),\n",
    "#                     nn.Dropout(0.3)\n",
    "                    )\n",
    "        self.fc1 = nn.Sequential(\n",
    "                    nn.Linear(512, 128),\n",
    "                    nn.ReLU(),\n",
    "#                     nn.Dropout(0.3)\n",
    "                    )\n",
    "        '''\n",
    "        self.fc2 = nn.Sequential(\n",
    "                    nn.Linear(256, 128),\n",
    "                    nn.ReLU(),\n",
    "                    #nn.Dropout(0.3)\n",
    "                    )\n",
    "        '''\n",
    "        \n",
    "        self.fc3 = nn.Sequential(\n",
    "                    nn.Linear(128, self.n_out),\n",
    "                    nn.LogSoftmax(dim=1)\n",
    "                    )\n",
    "    def forward(self, x):\n",
    "        x = self.fc0(x)\n",
    "        x = self.fc1(x)\n",
    "        #x = self.fc2(x)\n",
    "        x = self.fc3(x)\n",
    "        return x"
   ]
  },
  {
   "cell_type": "code",
   "execution_count": 29,
   "metadata": {
    "colab": {
     "base_uri": "https://localhost:8080/"
    },
    "executionInfo": {
     "elapsed": 4,
     "status": "ok",
     "timestamp": 1669003396208,
     "user": {
      "displayName": "Indu Avinash",
      "userId": "17431670914384041031"
     },
     "user_tz": -330
    },
    "id": "SoUmQR-8b4e0",
    "outputId": "b74fc229-f31f-4144-af5e-b45deb8a5061"
   },
   "outputs": [
    {
     "data": {
      "text/plain": [
       "Classifier_latent(\n",
       "  (fc0): Sequential(\n",
       "    (0): Linear(in_features=32, out_features=512, bias=True)\n",
       "    (1): ReLU()\n",
       "  )\n",
       "  (fc1): Sequential(\n",
       "    (0): Linear(in_features=512, out_features=128, bias=True)\n",
       "    (1): ReLU()\n",
       "  )\n",
       "  (fc3): Sequential(\n",
       "    (0): Linear(in_features=128, out_features=10, bias=True)\n",
       "    (1): LogSoftmax(dim=1)\n",
       "  )\n",
       ")"
      ]
     },
     "execution_count": 29,
     "metadata": {},
     "output_type": "execute_result"
    }
   ],
   "source": [
    "clf_lat = Classifier_latent()\n",
    "\n",
    "clf_lat.to(DEVICE)"
   ]
  },
  {
   "cell_type": "code",
   "execution_count": 30,
   "metadata": {
    "executionInfo": {
     "elapsed": 3,
     "status": "ok",
     "timestamp": 1669003396747,
     "user": {
      "displayName": "Indu Avinash",
      "userId": "17431670914384041031"
     },
     "user_tz": -330
    },
    "id": "WZyyBqjZcRxk"
   },
   "outputs": [],
   "source": [
    "clf_optim =  Adam(clf_lat.parameters(), lr= 15e-4)\n",
    "clf_losses = []\n",
    "valid_loss = []"
   ]
  },
  {
   "cell_type": "code",
   "execution_count": 31,
   "metadata": {
    "executionInfo": {
     "elapsed": 3,
     "status": "ok",
     "timestamp": 1669003397287,
     "user": {
      "displayName": "Indu Avinash",
      "userId": "17431670914384041031"
     },
     "user_tz": -330
    },
    "id": "usR9sMvRca5j"
   },
   "outputs": [],
   "source": [
    "criterion_clf = nn.NLLLoss().to(DEVICE)#nn.CrossEntropyLoss() "
   ]
  },
  {
   "cell_type": "code",
   "execution_count": 32,
   "metadata": {
    "executionInfo": {
     "elapsed": 3,
     "status": "ok",
     "timestamp": 1669003398495,
     "user": {
      "displayName": "Indu Avinash",
      "userId": "17431670914384041031"
     },
     "user_tz": -330
    },
    "id": "DGOhP2iOcsuy"
   },
   "outputs": [],
   "source": [
    "def train_classifier(optimizer, real_classes, z):\n",
    "    optimizer.zero_grad()\n",
    "    \n",
    "    pred_classes = clf_lat(z)\n",
    "    error_clf = criterion_clf(pred_classes, real_classes)\n",
    "    error_clf.backward(retain_graph=True)\n",
    "\n",
    "    optimizer.step()\n",
    "    \n",
    "    return "
   ]
  },
  {
   "cell_type": "code",
   "execution_count": 33,
   "metadata": {
    "executionInfo": {
     "elapsed": 7,
     "status": "ok",
     "timestamp": 1669003399772,
     "user": {
      "displayName": "Indu Avinash",
      "userId": "17431670914384041031"
     },
     "user_tz": -330
    },
    "id": "bL9pWb9lmk_a"
   },
   "outputs": [],
   "source": [
    "# GAN setup\n",
    "saved_generator = []\n",
    "#saved_discriminator = []\n",
    "saved_g_optim = []\n",
    "#saved_d_optim = []\n",
    "discriminator = Discriminator()\n",
    "discriminator.to(DEVICE)\n",
    "d_optim = Adam(discriminator.parameters(), lr=2e-4)\n",
    "\n",
    "for i in range(0,9):\n",
    "  generator = Generator()\n",
    "  generator.to(DEVICE)\n",
    "  saved_generator.append(generator)\n",
    "  #saved_discriminator.append(discriminator)\n",
    "  \n",
    "  g_optim = Adam(generator.parameters(), lr=2e-4)\n",
    "  #d_optim = Adam(discriminator.parameters(), lr=2e-4)\n",
    "  saved_g_optim.append(g_optim)\n",
    "  "
   ]
  },
  {
   "cell_type": "code",
   "execution_count": 34,
   "metadata": {
    "executionInfo": {
     "elapsed": 3,
     "status": "ok",
     "timestamp": 1669003400989,
     "user": {
      "displayName": "Indu Avinash",
      "userId": "17431670914384041031"
     },
     "user_tz": -330
    },
    "id": "gwsLVy0vO7eh"
   },
   "outputs": [],
   "source": [
    "max_ind = np.argmax(Trn_imb_set,)\n",
    "\n",
    "maj_class = Trn_imb_set[max_ind]\n",
    "\n",
    "batch_size_CLF = 100"
   ]
  },
  {
   "cell_type": "code",
   "execution_count": 35,
   "metadata": {
    "colab": {
     "base_uri": "https://localhost:8080/"
    },
    "executionInfo": {
     "elapsed": 4,
     "status": "ok",
     "timestamp": 1669003402322,
     "user": {
      "displayName": "Indu Avinash",
      "userId": "17431670914384041031"
     },
     "user_tz": -330
    },
    "id": "JMvST8u7Qdbu",
    "outputId": "3449bb20-d4b8-4a3c-c1d6-9e08afde7915"
   },
   "outputs": [
    {
     "data": {
      "text/plain": [
       "900"
      ]
     },
     "execution_count": 35,
     "metadata": {},
     "output_type": "execute_result"
    }
   ],
   "source": [
    "maj_class"
   ]
  },
  {
   "cell_type": "code",
   "execution_count": 36,
   "metadata": {
    "executionInfo": {
     "elapsed": 3,
     "status": "ok",
     "timestamp": 1669003402842,
     "user": {
      "displayName": "Indu Avinash",
      "userId": "17431670914384041031"
     },
     "user_tz": -330
    },
    "id": "C6koOb97I20f"
   },
   "outputs": [],
   "source": [
    "from sklearn.metrics import classification_report\n",
    "from sklearn.metrics import confusion_matrix"
   ]
  },
  {
   "cell_type": "code",
   "execution_count": 37,
   "metadata": {
    "executionInfo": {
     "elapsed": 3,
     "status": "ok",
     "timestamp": 1669003403364,
     "user": {
      "displayName": "Indu Avinash",
      "userId": "17431670914384041031"
     },
     "user_tz": -330
    },
    "id": "k-01IEDbn_Kp"
   },
   "outputs": [],
   "source": [
    "# from torchmetrics import ConfusionMatrix"
   ]
  },
  {
   "cell_type": "code",
   "execution_count": 38,
   "metadata": {
    "executionInfo": {
     "elapsed": 3,
     "status": "ok",
     "timestamp": 1669003404692,
     "user": {
      "displayName": "Indu Avinash",
      "userId": "17431670914384041031"
     },
     "user_tz": -330
    },
    "id": "EjWIFwtzI7T5"
   },
   "outputs": [],
   "source": [
    "def metrics_aa_gm(ypred, ytrue):\n",
    "    cm = confusion_matrix(ytrue, ypred)\n",
    "    # print(confusion_matrix(ytrue, ypred))\n",
    "    sum_classes = np.sum(cm, axis=1)\n",
    "    true_pred = np.diagonal(cm)\n",
    "    tp_rate = true_pred/sum_classes\n",
    "    ACSA = np.mean(tp_rate)\n",
    "    GM = np.prod(tp_rate)**(1/cm.shape[0])\n",
    "    return ACSA, GM"
   ]
  },
  {
   "cell_type": "code",
   "execution_count": 39,
   "metadata": {
    "executionInfo": {
     "elapsed": 3,
     "status": "ok",
     "timestamp": 1669003406547,
     "user": {
      "displayName": "Indu Avinash",
      "userId": "17431670914384041031"
     },
     "user_tz": -330
    },
    "id": "m5if4D9qIelg"
   },
   "outputs": [],
   "source": [
    "test_loader = DataLoader(dataset=test_data, batch_size=1000, shuffle=True, num_workers=num_workers)\n",
    "for batch_idx, (xtest, ytest) in enumerate(test_loader):\n",
    "        xtest = xtest.view(1000, x_dim)\n",
    "        xtest = xtest.to(DEVICE)\n",
    "        ytest = ytest.to(DEVICE)"
   ]
  },
  {
   "cell_type": "markdown",
   "metadata": {
    "id": "dYqQGVxgPXoL"
   },
   "source": [
    "##### VAE training"
   ]
  },
  {
   "cell_type": "code",
   "execution_count": 40,
   "metadata": {
    "colab": {
     "base_uri": "https://localhost:8080/"
    },
    "executionInfo": {
     "elapsed": 255081,
     "status": "ok",
     "timestamp": 1669003664200,
     "user": {
      "displayName": "Indu Avinash",
      "userId": "17431670914384041031"
     },
     "user_tz": -330
    },
    "id": "fJwCzuimPWav",
    "outputId": "fc4d84a7-203d-4003-e51f-e2e2f5b643f9"
   },
   "outputs": [
    {
     "name": "stdout",
     "output_type": "stream",
     "text": [
      "\tEpoch 1 complete! \tTraining Loss:  1549.9795364583333\n",
      "\tEpoch 2 complete! \tTraining Loss:  1435.9126545138888\n",
      "\tEpoch 3 complete! \tTraining Loss:  1433.4434097222222\n",
      "\tEpoch 4 complete! \tTraining Loss:  1430.8241753472223\n",
      "\tEpoch 5 complete! \tTraining Loss:  1429.2683715277778\n",
      "\tEpoch 6 complete! \tTraining Loss:  1428.31965625\n",
      "\tEpoch 7 complete! \tTraining Loss:  1427.3388645833334\n",
      "\tEpoch 8 complete! \tTraining Loss:  1425.2312083333334\n",
      "\tEpoch 9 complete! \tTraining Loss:  1424.0752083333334\n",
      "\tEpoch 10 complete! \tTraining Loss:  1423.0026319444444\n",
      "\tEpoch 11 complete! \tTraining Loss:  1422.3930399305555\n",
      "\tEpoch 12 complete! \tTraining Loss:  1421.3375711805556\n",
      "\tEpoch 13 complete! \tTraining Loss:  1420.347217013889\n",
      "\tEpoch 14 complete! \tTraining Loss:  1420.2105920138888\n",
      "\tEpoch 15 complete! \tTraining Loss:  1419.7306440972222\n",
      "\tEpoch 16 complete! \tTraining Loss:  1419.181657986111\n",
      "\tEpoch 17 complete! \tTraining Loss:  1418.8169270833334\n",
      "\tEpoch 18 complete! \tTraining Loss:  1418.655673611111\n",
      "\tEpoch 19 complete! \tTraining Loss:  1418.4488315972221\n",
      "\tEpoch 20 complete! \tTraining Loss:  1418.2455295138889\n",
      "\tEpoch 21 complete! \tTraining Loss:  1417.9482708333333\n",
      "\tEpoch 22 complete! \tTraining Loss:  1417.9755954861112\n",
      "\tEpoch 23 complete! \tTraining Loss:  1417.7771145833333\n",
      "\tEpoch 24 complete! \tTraining Loss:  1417.6543958333334\n",
      "\tEpoch 25 complete! \tTraining Loss:  1417.6248038194444\n",
      "\tEpoch 26 complete! \tTraining Loss:  1417.4501875\n",
      "\tEpoch 27 complete! \tTraining Loss:  1417.3335538194444\n",
      "\tEpoch 28 complete! \tTraining Loss:  1417.2738246527779\n",
      "\tEpoch 29 complete! \tTraining Loss:  1417.2425260416667\n",
      "\tEpoch 30 complete! \tTraining Loss:  1417.0931527777777\n",
      "\tEpoch 31 complete! \tTraining Loss:  1417.0608524305555\n",
      "\tEpoch 32 complete! \tTraining Loss:  1416.964607638889\n",
      "\tEpoch 33 complete! \tTraining Loss:  1416.8192743055556\n",
      "\tEpoch 34 complete! \tTraining Loss:  1416.7279652777777\n",
      "\tEpoch 35 complete! \tTraining Loss:  1416.6847430555556\n",
      "\tEpoch 36 complete! \tTraining Loss:  1416.6295243055556\n",
      "\tEpoch 37 complete! \tTraining Loss:  1416.4810052083333\n",
      "\tEpoch 38 complete! \tTraining Loss:  1416.509296875\n",
      "\tEpoch 39 complete! \tTraining Loss:  1416.394170138889\n",
      "\tEpoch 40 complete! \tTraining Loss:  1416.2731041666666\n",
      "\tEpoch 41 complete! \tTraining Loss:  1416.1765572916668\n",
      "\tEpoch 42 complete! \tTraining Loss:  1416.2429392361112\n",
      "\tEpoch 43 complete! \tTraining Loss:  1416.1616996527778\n",
      "\tEpoch 44 complete! \tTraining Loss:  1415.9214635416668\n",
      "\tEpoch 45 complete! \tTraining Loss:  1415.9897465277777\n",
      "\tEpoch 46 complete! \tTraining Loss:  1415.8144722222223\n",
      "\tEpoch 47 complete! \tTraining Loss:  1415.8634322916666\n",
      "\tEpoch 48 complete! \tTraining Loss:  1415.7937569444443\n",
      "\tEpoch 49 complete! \tTraining Loss:  1415.6713020833333\n",
      "\tEpoch 50 complete! \tTraining Loss:  1415.7211111111112\n",
      "\tEpoch 51 complete! \tTraining Loss:  1415.6726284722222\n",
      "\tEpoch 52 complete! \tTraining Loss:  1415.7026631944445\n",
      "\tEpoch 53 complete! \tTraining Loss:  1415.5268541666667\n",
      "\tEpoch 54 complete! \tTraining Loss:  1415.5144635416666\n",
      "\tEpoch 55 complete! \tTraining Loss:  1415.3770486111111\n",
      "\tEpoch 56 complete! \tTraining Loss:  1415.4583854166667\n",
      "\tEpoch 57 complete! \tTraining Loss:  1415.3260815972221\n",
      "\tEpoch 58 complete! \tTraining Loss:  1415.342013888889\n",
      "\tEpoch 59 complete! \tTraining Loss:  1415.3505208333333\n",
      "\tEpoch 60 complete! \tTraining Loss:  1415.2367309027777\n",
      "\tEpoch 61 complete! \tTraining Loss:  1415.1750208333333\n",
      "\tEpoch 62 complete! \tTraining Loss:  1415.184404513889\n",
      "\tEpoch 63 complete! \tTraining Loss:  1415.0882239583334\n",
      "\tEpoch 64 complete! \tTraining Loss:  1415.123359375\n",
      "\tEpoch 65 complete! \tTraining Loss:  1415.1821770833333\n",
      "\tEpoch 66 complete! \tTraining Loss:  1415.0527430555555\n",
      "\tEpoch 67 complete! \tTraining Loss:  1414.9950277777778\n",
      "\tEpoch 68 complete! \tTraining Loss:  1415.0340989583333\n",
      "\tEpoch 69 complete! \tTraining Loss:  1415.0200538194445\n",
      "\tEpoch 70 complete! \tTraining Loss:  1415.0744340277777\n",
      "\tEpoch 71 complete! \tTraining Loss:  1414.976326388889\n",
      "\tEpoch 72 complete! \tTraining Loss:  1414.8161024305555\n",
      "\tEpoch 73 complete! \tTraining Loss:  1414.8556319444444\n",
      "\tEpoch 74 complete! \tTraining Loss:  1414.8369114583334\n",
      "\tEpoch 75 complete! \tTraining Loss:  1414.805732638889\n",
      "\tEpoch 76 complete! \tTraining Loss:  1414.814513888889\n",
      "\tEpoch 77 complete! \tTraining Loss:  1414.7903159722223\n",
      "\tEpoch 78 complete! \tTraining Loss:  1414.73671875\n",
      "\tEpoch 79 complete! \tTraining Loss:  1414.764138888889\n",
      "\tEpoch 80 complete! \tTraining Loss:  1414.74109375\n",
      "\tEpoch 81 complete! \tTraining Loss:  1414.6514305555556\n",
      "\tEpoch 82 complete! \tTraining Loss:  1414.6325225694445\n",
      "\tEpoch 83 complete! \tTraining Loss:  1414.7151336805555\n",
      "\tEpoch 84 complete! \tTraining Loss:  1414.6148194444445\n",
      "\tEpoch 85 complete! \tTraining Loss:  1414.60625\n",
      "\tEpoch 86 complete! \tTraining Loss:  1414.5330503472221\n",
      "\tEpoch 87 complete! \tTraining Loss:  1414.7432638888888\n",
      "\tEpoch 88 complete! \tTraining Loss:  1414.4895555555556\n",
      "\tEpoch 89 complete! \tTraining Loss:  1414.5284756944445\n",
      "\tEpoch 90 complete! \tTraining Loss:  1414.478388888889\n",
      "\tEpoch 91 complete! \tTraining Loss:  1414.3598975694445\n",
      "\tEpoch 92 complete! \tTraining Loss:  1414.3674322916668\n",
      "\tEpoch 93 complete! \tTraining Loss:  1414.2063888888888\n",
      "\tEpoch 94 complete! \tTraining Loss:  1414.3330069444444\n",
      "\tEpoch 95 complete! \tTraining Loss:  1414.1794965277777\n",
      "\tEpoch 96 complete! \tTraining Loss:  1414.2738211805556\n",
      "\tEpoch 97 complete! \tTraining Loss:  1414.0818298611111\n",
      "\tEpoch 98 complete! \tTraining Loss:  1414.156486111111\n",
      "\tEpoch 99 complete! \tTraining Loss:  1414.0155555555555\n",
      "\tEpoch 100 complete! \tTraining Loss:  1413.974751736111\n",
      "\tEpoch 101 complete! \tTraining Loss:  1413.9597934027777\n",
      "\tEpoch 102 complete! \tTraining Loss:  1413.8471440972223\n",
      "\tEpoch 103 complete! \tTraining Loss:  1413.8297743055555\n",
      "\tEpoch 104 complete! \tTraining Loss:  1413.7734079861111\n",
      "\tEpoch 105 complete! \tTraining Loss:  1413.6723003472223\n",
      "\tEpoch 106 complete! \tTraining Loss:  1413.728111111111\n",
      "\tEpoch 107 complete! \tTraining Loss:  1413.6945416666667\n",
      "\tEpoch 108 complete! \tTraining Loss:  1413.9226597222223\n",
      "\tEpoch 109 complete! \tTraining Loss:  1413.5006302083334\n",
      "\tEpoch 110 complete! \tTraining Loss:  1413.446157986111\n",
      "\tEpoch 111 complete! \tTraining Loss:  1413.355625\n",
      "\tEpoch 112 complete! \tTraining Loss:  1413.3881701388889\n",
      "\tEpoch 113 complete! \tTraining Loss:  1413.365763888889\n",
      "\tEpoch 114 complete! \tTraining Loss:  1413.3876128472223\n",
      "\tEpoch 115 complete! \tTraining Loss:  1413.1913576388888\n",
      "\tEpoch 116 complete! \tTraining Loss:  1413.1782864583333\n",
      "\tEpoch 117 complete! \tTraining Loss:  1413.2552934027779\n",
      "\tEpoch 118 complete! \tTraining Loss:  1413.0150677083334\n",
      "\tEpoch 119 complete! \tTraining Loss:  1413.0199149305556\n",
      "\tEpoch 120 complete! \tTraining Loss:  1412.9901319444446\n",
      "\tEpoch 121 complete! \tTraining Loss:  1413.0655677083334\n",
      "\tEpoch 122 complete! \tTraining Loss:  1413.1322899305555\n",
      "\tEpoch 123 complete! \tTraining Loss:  1412.9920590277777\n",
      "\tEpoch 124 complete! \tTraining Loss:  1412.8350121527778\n",
      "\tEpoch 125 complete! \tTraining Loss:  1412.9099548611111\n",
      "\tEpoch 126 complete! \tTraining Loss:  1412.8950086805555\n",
      "\tEpoch 127 complete! \tTraining Loss:  1412.8980017361112\n",
      "\tEpoch 128 complete! \tTraining Loss:  1412.8375868055555\n",
      "\tEpoch 129 complete! \tTraining Loss:  1412.7759149305555\n",
      "\tEpoch 130 complete! \tTraining Loss:  1412.6445885416667\n",
      "\tEpoch 131 complete! \tTraining Loss:  1412.5242916666666\n",
      "\tEpoch 132 complete! \tTraining Loss:  1412.5030885416666\n",
      "\tEpoch 133 complete! \tTraining Loss:  1412.6066840277779\n",
      "\tEpoch 134 complete! \tTraining Loss:  1412.4966475694443\n",
      "\tEpoch 135 complete! \tTraining Loss:  1412.5091388888889\n",
      "\tEpoch 136 complete! \tTraining Loss:  1412.4052569444445\n",
      "\tEpoch 137 complete! \tTraining Loss:  1412.4937777777777\n",
      "\tEpoch 138 complete! \tTraining Loss:  1412.303263888889\n",
      "\tEpoch 139 complete! \tTraining Loss:  1412.2868333333333\n",
      "\tEpoch 140 complete! \tTraining Loss:  1412.3138055555555\n",
      "\tEpoch 141 complete! \tTraining Loss:  1412.2084010416668\n",
      "\tEpoch 142 complete! \tTraining Loss:  1412.1861059027779\n",
      "\tEpoch 143 complete! \tTraining Loss:  1412.19575\n",
      "\tEpoch 144 complete! \tTraining Loss:  1412.1070208333333\n",
      "\tEpoch 145 complete! \tTraining Loss:  1412.0453871527777\n",
      "\tEpoch 146 complete! \tTraining Loss:  1411.930140625\n",
      "\tEpoch 147 complete! \tTraining Loss:  1411.9780034722223\n",
      "\tEpoch 148 complete! \tTraining Loss:  1411.9536215277778\n",
      "\tEpoch 149 complete! \tTraining Loss:  1411.8167517361112\n",
      "\tEpoch 150 complete! \tTraining Loss:  1411.7333524305554\n",
      "\tEpoch 151 complete! \tTraining Loss:  1411.7112881944445\n",
      "\tEpoch 152 complete! \tTraining Loss:  1411.8680190972223\n",
      "\tEpoch 153 complete! \tTraining Loss:  1411.8168888888888\n",
      "\tEpoch 154 complete! \tTraining Loss:  1411.6539340277777\n",
      "\tEpoch 155 complete! \tTraining Loss:  1411.625982638889\n",
      "\tEpoch 156 complete! \tTraining Loss:  1411.55903125\n",
      "\tEpoch 157 complete! \tTraining Loss:  1411.570329861111\n",
      "\tEpoch 158 complete! \tTraining Loss:  1411.5164930555557\n",
      "\tEpoch 159 complete! \tTraining Loss:  1411.440486111111\n",
      "\tEpoch 160 complete! \tTraining Loss:  1411.4762586805555\n",
      "\tEpoch 161 complete! \tTraining Loss:  1411.5121736111112\n",
      "\tEpoch 162 complete! \tTraining Loss:  1411.4226006944446\n",
      "\tEpoch 163 complete! \tTraining Loss:  1411.2989774305556\n",
      "\tEpoch 164 complete! \tTraining Loss:  1411.430578125\n",
      "\tEpoch 165 complete! \tTraining Loss:  1411.2934114583334\n",
      "\tEpoch 166 complete! \tTraining Loss:  1411.2613107638888\n",
      "\tEpoch 167 complete! \tTraining Loss:  1411.2051545138888\n",
      "\tEpoch 168 complete! \tTraining Loss:  1411.1999444444446\n",
      "\tEpoch 169 complete! \tTraining Loss:  1411.1728090277777\n",
      "\tEpoch 170 complete! \tTraining Loss:  1411.0656284722222\n",
      "\tEpoch 171 complete! \tTraining Loss:  1411.147328125\n",
      "\tEpoch 172 complete! \tTraining Loss:  1411.0458159722223\n",
      "\tEpoch 173 complete! \tTraining Loss:  1411.1049375\n",
      "\tEpoch 174 complete! \tTraining Loss:  1410.9722708333334\n",
      "\tEpoch 175 complete! \tTraining Loss:  1410.981998263889\n",
      "\tEpoch 176 complete! \tTraining Loss:  1410.9297361111112\n",
      "\tEpoch 177 complete! \tTraining Loss:  1410.923390625\n",
      "\tEpoch 178 complete! \tTraining Loss:  1410.8589166666666\n",
      "\tEpoch 179 complete! \tTraining Loss:  1410.892359375\n",
      "\tEpoch 180 complete! \tTraining Loss:  1410.9081649305556\n",
      "\tEpoch 181 complete! \tTraining Loss:  1410.8169565972223\n",
      "\tEpoch 182 complete! \tTraining Loss:  1410.715703125\n",
      "\tEpoch 183 complete! \tTraining Loss:  1410.662171875\n",
      "\tEpoch 184 complete! \tTraining Loss:  1410.6744722222222\n",
      "\tEpoch 185 complete! \tTraining Loss:  1410.7326493055555\n",
      "\tEpoch 186 complete! \tTraining Loss:  1410.677703125\n",
      "\tEpoch 187 complete! \tTraining Loss:  1410.5402291666667\n",
      "\tEpoch 188 complete! \tTraining Loss:  1410.7460520833333\n",
      "\tEpoch 189 complete! \tTraining Loss:  1410.468484375\n",
      "\tEpoch 190 complete! \tTraining Loss:  1410.4679722222222\n",
      "\tEpoch 191 complete! \tTraining Loss:  1410.4979583333334\n",
      "\tEpoch 192 complete! \tTraining Loss:  1410.4621510416666\n",
      "\tEpoch 193 complete! \tTraining Loss:  1410.4019878472222\n",
      "\tEpoch 194 complete! \tTraining Loss:  1410.2985711805557\n",
      "\tEpoch 195 complete! \tTraining Loss:  1410.3624288194444\n",
      "\tEpoch 196 complete! \tTraining Loss:  1410.3121371527777\n",
      "\tEpoch 197 complete! \tTraining Loss:  1410.4098732638888\n",
      "\tEpoch 198 complete! \tTraining Loss:  1410.2442881944444\n",
      "\tEpoch 199 complete! \tTraining Loss:  1410.1906614583334\n",
      "\tEpoch 200 complete! \tTraining Loss:  1410.151734375\n",
      "\tEpoch 201 complete! \tTraining Loss:  1410.2711180555555\n",
      "\tEpoch 202 complete! \tTraining Loss:  1410.1645538194443\n",
      "\tEpoch 203 complete! \tTraining Loss:  1410.055546875\n",
      "\tEpoch 204 complete! \tTraining Loss:  1410.0810451388888\n",
      "\tEpoch 205 complete! \tTraining Loss:  1410.0031770833334\n",
      "\tEpoch 206 complete! \tTraining Loss:  1410.0085052083334\n",
      "\tEpoch 207 complete! \tTraining Loss:  1410.0527743055557\n",
      "\tEpoch 208 complete! \tTraining Loss:  1409.9763350694445\n",
      "\tEpoch 209 complete! \tTraining Loss:  1409.9923819444443\n",
      "\tEpoch 210 complete! \tTraining Loss:  1409.9247100694445\n",
      "\tEpoch 211 complete! \tTraining Loss:  1409.8992152777778\n",
      "\tEpoch 212 complete! \tTraining Loss:  1409.8473524305555\n",
      "\tEpoch 213 complete! \tTraining Loss:  1409.8654114583333\n",
      "\tEpoch 214 complete! \tTraining Loss:  1409.834578125\n",
      "\tEpoch 215 complete! \tTraining Loss:  1409.9447256944445\n",
      "\tEpoch 216 complete! \tTraining Loss:  1409.747371527778\n",
      "\tEpoch 217 complete! \tTraining Loss:  1409.7030746527778\n",
      "\tEpoch 218 complete! \tTraining Loss:  1409.70328125\n",
      "\tEpoch 219 complete! \tTraining Loss:  1409.6595885416666\n",
      "\tEpoch 220 complete! \tTraining Loss:  1409.5416805555556\n",
      "\tEpoch 221 complete! \tTraining Loss:  1409.5505399305555\n",
      "\tEpoch 222 complete! \tTraining Loss:  1409.5733975694445\n",
      "\tEpoch 223 complete! \tTraining Loss:  1409.5635920138889\n",
      "\tEpoch 224 complete! \tTraining Loss:  1409.5723871527778\n",
      "\tEpoch 225 complete! \tTraining Loss:  1409.58434375\n",
      "\tEpoch 226 complete! \tTraining Loss:  1409.4756822916668\n",
      "\tEpoch 227 complete! \tTraining Loss:  1409.4178020833333\n",
      "\tEpoch 228 complete! \tTraining Loss:  1409.3522413194444\n",
      "\tEpoch 229 complete! \tTraining Loss:  1409.3582725694444\n",
      "\tEpoch 230 complete! \tTraining Loss:  1409.3632447916666\n",
      "\tEpoch 231 complete! \tTraining Loss:  1409.3554652777777\n",
      "\tEpoch 232 complete! \tTraining Loss:  1409.244265625\n",
      "\tEpoch 233 complete! \tTraining Loss:  1409.3654010416667\n",
      "\tEpoch 234 complete! \tTraining Loss:  1409.1749045138888\n",
      "\tEpoch 235 complete! \tTraining Loss:  1409.2325711805556\n",
      "\tEpoch 236 complete! \tTraining Loss:  1409.2698802083332\n",
      "\tEpoch 237 complete! \tTraining Loss:  1409.2390260416666\n",
      "\tEpoch 238 complete! \tTraining Loss:  1409.1459878472222\n",
      "\tEpoch 239 complete! \tTraining Loss:  1409.030171875\n",
      "\tEpoch 240 complete! \tTraining Loss:  1409.0971024305557\n",
      "\tEpoch 241 complete! \tTraining Loss:  1408.9641527777778\n",
      "\tEpoch 242 complete! \tTraining Loss:  1409.0918715277778\n",
      "\tEpoch 243 complete! \tTraining Loss:  1409.1004635416666\n",
      "\tEpoch 244 complete! \tTraining Loss:  1409.1461753472222\n",
      "\tEpoch 245 complete! \tTraining Loss:  1409.0190034722223\n",
      "\tEpoch 246 complete! \tTraining Loss:  1408.8909131944445\n",
      "\tEpoch 247 complete! \tTraining Loss:  1408.8970815972223\n",
      "\tEpoch 248 complete! \tTraining Loss:  1408.8784322916667\n",
      "\tEpoch 249 complete! \tTraining Loss:  1408.827170138889\n",
      "\tEpoch 250 complete! \tTraining Loss:  1408.779998263889\n",
      "\tEpoch 251 complete! \tTraining Loss:  1408.93453125\n",
      "\tEpoch 252 complete! \tTraining Loss:  1408.7632760416666\n",
      "\tEpoch 253 complete! \tTraining Loss:  1408.7559097222222\n",
      "\tEpoch 254 complete! \tTraining Loss:  1408.7138541666666\n",
      "\tEpoch 255 complete! \tTraining Loss:  1408.7328993055555\n",
      "\tEpoch 256 complete! \tTraining Loss:  1408.7793194444444\n",
      "\tEpoch 257 complete! \tTraining Loss:  1408.5799131944445\n",
      "\tEpoch 258 complete! \tTraining Loss:  1408.558189236111\n",
      "\tEpoch 259 complete! \tTraining Loss:  1408.5864826388888\n",
      "\tEpoch 260 complete! \tTraining Loss:  1408.6416927083333\n",
      "\tEpoch 261 complete! \tTraining Loss:  1408.549206597222\n",
      "\tEpoch 262 complete! \tTraining Loss:  1408.4282256944443\n",
      "\tEpoch 263 complete! \tTraining Loss:  1408.5027048611112\n",
      "\tEpoch 264 complete! \tTraining Loss:  1408.474517361111\n",
      "\tEpoch 265 complete! \tTraining Loss:  1408.4972152777777\n",
      "\tEpoch 266 complete! \tTraining Loss:  1408.4176909722223\n",
      "\tEpoch 267 complete! \tTraining Loss:  1408.3355173611112\n",
      "\tEpoch 268 complete! \tTraining Loss:  1408.418779513889\n",
      "\tEpoch 269 complete! \tTraining Loss:  1408.3416475694444\n",
      "\tEpoch 270 complete! \tTraining Loss:  1408.3436909722222\n",
      "\tEpoch 271 complete! \tTraining Loss:  1408.2164045138888\n",
      "\tEpoch 272 complete! \tTraining Loss:  1408.3224114583334\n",
      "\tEpoch 273 complete! \tTraining Loss:  1408.284345486111\n",
      "\tEpoch 274 complete! \tTraining Loss:  1408.3014982638888\n",
      "\tEpoch 275 complete! \tTraining Loss:  1408.1780520833333\n",
      "\tEpoch 276 complete! \tTraining Loss:  1408.22640625\n",
      "\tEpoch 277 complete! \tTraining Loss:  1408.166032986111\n",
      "\tEpoch 278 complete! \tTraining Loss:  1408.1175347222222\n",
      "\tEpoch 279 complete! \tTraining Loss:  1408.0693125\n",
      "\tEpoch 280 complete! \tTraining Loss:  1408.0548975694444\n",
      "\tEpoch 281 complete! \tTraining Loss:  1408.1136041666666\n",
      "\tEpoch 282 complete! \tTraining Loss:  1407.9887291666666\n",
      "\tEpoch 283 complete! \tTraining Loss:  1408.1218559027777\n",
      "\tEpoch 284 complete! \tTraining Loss:  1408.1487065972221\n",
      "\tEpoch 285 complete! \tTraining Loss:  1407.9436458333332\n",
      "\tEpoch 286 complete! \tTraining Loss:  1407.9419670138889\n",
      "\tEpoch 287 complete! \tTraining Loss:  1407.859875\n",
      "\tEpoch 288 complete! \tTraining Loss:  1407.851967013889\n",
      "\tEpoch 289 complete! \tTraining Loss:  1407.8659618055556\n",
      "\tEpoch 290 complete! \tTraining Loss:  1407.8926649305556\n",
      "\tEpoch 291 complete! \tTraining Loss:  1407.8969045138888\n",
      "\tEpoch 292 complete! \tTraining Loss:  1407.7629131944445\n",
      "\tEpoch 293 complete! \tTraining Loss:  1407.7867152777778\n",
      "\tEpoch 294 complete! \tTraining Loss:  1407.9394270833334\n",
      "\tEpoch 295 complete! \tTraining Loss:  1407.827064236111\n",
      "\tEpoch 296 complete! \tTraining Loss:  1407.6852986111112\n",
      "\tEpoch 297 complete! \tTraining Loss:  1407.6580017361111\n",
      "\tEpoch 298 complete! \tTraining Loss:  1407.7532569444445\n",
      "\tEpoch 299 complete! \tTraining Loss:  1407.6784670138888\n",
      "\tEpoch 300 complete! \tTraining Loss:  1407.6255017361111\n",
      "\tEpoch 301 complete! \tTraining Loss:  1407.6576006944445\n",
      "\tEpoch 302 complete! \tTraining Loss:  1407.5934670138888\n",
      "\tEpoch 303 complete! \tTraining Loss:  1407.4678090277778\n",
      "\tEpoch 304 complete! \tTraining Loss:  1407.5285017361111\n",
      "\tEpoch 305 complete! \tTraining Loss:  1407.6595121527778\n",
      "\tEpoch 306 complete! \tTraining Loss:  1407.587796875\n",
      "\tEpoch 307 complete! \tTraining Loss:  1407.5274305555556\n",
      "\tEpoch 308 complete! \tTraining Loss:  1407.4538385416668\n",
      "\tEpoch 309 complete! \tTraining Loss:  1407.3390833333333\n",
      "\tEpoch 310 complete! \tTraining Loss:  1407.3217482638888\n",
      "\tEpoch 311 complete! \tTraining Loss:  1407.3426649305557\n",
      "\tEpoch 312 complete! \tTraining Loss:  1407.3318489583332\n",
      "\tEpoch 313 complete! \tTraining Loss:  1407.381046875\n",
      "\tEpoch 314 complete! \tTraining Loss:  1407.1926684027778\n",
      "\tEpoch 315 complete! \tTraining Loss:  1407.2944618055556\n",
      "\tEpoch 316 complete! \tTraining Loss:  1407.2649895833333\n",
      "\tEpoch 317 complete! \tTraining Loss:  1407.1665052083333\n",
      "\tEpoch 318 complete! \tTraining Loss:  1407.281171875\n",
      "\tEpoch 319 complete! \tTraining Loss:  1407.172763888889\n",
      "\tEpoch 320 complete! \tTraining Loss:  1407.0868368055555\n",
      "\tEpoch 321 complete! \tTraining Loss:  1407.3444635416668\n",
      "\tEpoch 322 complete! \tTraining Loss:  1407.1877291666667\n",
      "\tEpoch 323 complete! \tTraining Loss:  1407.1374114583334\n",
      "\tEpoch 324 complete! \tTraining Loss:  1407.035609375\n",
      "\tEpoch 325 complete! \tTraining Loss:  1406.9882847222223\n",
      "\tEpoch 326 complete! \tTraining Loss:  1406.91778125\n",
      "\tEpoch 327 complete! \tTraining Loss:  1407.1641944444445\n",
      "\tEpoch 328 complete! \tTraining Loss:  1406.9162465277777\n",
      "\tEpoch 329 complete! \tTraining Loss:  1406.8775\n",
      "\tEpoch 330 complete! \tTraining Loss:  1406.8530034722223\n",
      "\tEpoch 331 complete! \tTraining Loss:  1406.9673177083334\n",
      "\tEpoch 332 complete! \tTraining Loss:  1406.9596979166668\n",
      "\tEpoch 333 complete! \tTraining Loss:  1406.8349982638888\n",
      "\tEpoch 334 complete! \tTraining Loss:  1406.7997083333332\n",
      "\tEpoch 335 complete! \tTraining Loss:  1406.7591996527779\n",
      "\tEpoch 336 complete! \tTraining Loss:  1406.7602638888889\n",
      "\tEpoch 337 complete! \tTraining Loss:  1406.7348784722221\n",
      "\tEpoch 338 complete! \tTraining Loss:  1406.7786666666666\n",
      "\tEpoch 339 complete! \tTraining Loss:  1406.6732395833333\n",
      "\tEpoch 340 complete! \tTraining Loss:  1406.7183489583333\n",
      "\tEpoch 341 complete! \tTraining Loss:  1406.7509895833334\n",
      "\tEpoch 342 complete! \tTraining Loss:  1406.6477100694444\n",
      "\tEpoch 343 complete! \tTraining Loss:  1406.6603663194444\n",
      "\tEpoch 344 complete! \tTraining Loss:  1406.5696180555556\n",
      "\tEpoch 345 complete! \tTraining Loss:  1406.5569670138889\n",
      "\tEpoch 346 complete! \tTraining Loss:  1406.5648784722223\n",
      "\tEpoch 347 complete! \tTraining Loss:  1406.5432881944444\n",
      "\tEpoch 348 complete! \tTraining Loss:  1406.6553489583334\n",
      "\tEpoch 349 complete! \tTraining Loss:  1406.5341163194444\n",
      "\tEpoch 350 complete! \tTraining Loss:  1406.4526197916666\n",
      "\tEpoch 351 complete! \tTraining Loss:  1406.5240052083334\n",
      "\tEpoch 352 complete! \tTraining Loss:  1406.4013940972222\n",
      "\tEpoch 353 complete! \tTraining Loss:  1406.3728611111112\n",
      "\tEpoch 354 complete! \tTraining Loss:  1406.4578454861112\n",
      "\tEpoch 355 complete! \tTraining Loss:  1406.3171493055556\n",
      "\tEpoch 356 complete! \tTraining Loss:  1406.3862013888888\n",
      "\tEpoch 357 complete! \tTraining Loss:  1406.3164010416667\n",
      "\tEpoch 358 complete! \tTraining Loss:  1406.2296024305556\n",
      "\tEpoch 359 complete! \tTraining Loss:  1406.4584027777778\n",
      "\tEpoch 360 complete! \tTraining Loss:  1406.2792274305555\n",
      "\tEpoch 361 complete! \tTraining Loss:  1406.3052586805557\n",
      "\tEpoch 362 complete! \tTraining Loss:  1406.1433645833333\n",
      "\tEpoch 363 complete! \tTraining Loss:  1406.2197569444445\n",
      "\tEpoch 364 complete! \tTraining Loss:  1406.1732291666667\n",
      "\tEpoch 365 complete! \tTraining Loss:  1406.137607638889\n",
      "\tEpoch 366 complete! \tTraining Loss:  1406.1370989583334\n",
      "\tEpoch 367 complete! \tTraining Loss:  1406.11659375\n",
      "\tEpoch 368 complete! \tTraining Loss:  1406.1369496527777\n",
      "\tEpoch 369 complete! \tTraining Loss:  1406.0476041666666\n",
      "\tEpoch 370 complete! \tTraining Loss:  1405.9951927083334\n",
      "\tEpoch 371 complete! \tTraining Loss:  1406.0223229166666\n",
      "\tEpoch 372 complete! \tTraining Loss:  1406.0039288194444\n",
      "\tEpoch 373 complete! \tTraining Loss:  1406.0829375\n",
      "\tEpoch 374 complete! \tTraining Loss:  1406.0414270833332\n",
      "\tEpoch 375 complete! \tTraining Loss:  1406.0747152777778\n",
      "\tEpoch 376 complete! \tTraining Loss:  1405.9204461805555\n",
      "\tEpoch 377 complete! \tTraining Loss:  1405.9214114583333\n",
      "\tEpoch 378 complete! \tTraining Loss:  1405.9495225694445\n",
      "\tEpoch 379 complete! \tTraining Loss:  1405.9433697916666\n",
      "\tEpoch 380 complete! \tTraining Loss:  1405.7434149305554\n",
      "\tEpoch 381 complete! \tTraining Loss:  1405.819578125\n",
      "\tEpoch 382 complete! \tTraining Loss:  1405.9314027777777\n",
      "\tEpoch 383 complete! \tTraining Loss:  1405.7888576388889\n",
      "\tEpoch 384 complete! \tTraining Loss:  1405.8231076388888\n",
      "\tEpoch 385 complete! \tTraining Loss:  1405.7268246527779\n",
      "\tEpoch 386 complete! \tTraining Loss:  1405.6476909722223\n",
      "\tEpoch 387 complete! \tTraining Loss:  1405.5839010416666\n",
      "\tEpoch 388 complete! \tTraining Loss:  1405.867763888889\n",
      "\tEpoch 389 complete! \tTraining Loss:  1405.5235746527778\n",
      "\tEpoch 390 complete! \tTraining Loss:  1405.563282986111\n",
      "\tEpoch 391 complete! \tTraining Loss:  1405.5595399305555\n",
      "\tEpoch 392 complete! \tTraining Loss:  1405.5605520833333\n",
      "\tEpoch 393 complete! \tTraining Loss:  1405.5143055555557\n",
      "\tEpoch 394 complete! \tTraining Loss:  1405.6440833333334\n",
      "\tEpoch 395 complete! \tTraining Loss:  1405.460298611111\n",
      "\tEpoch 396 complete! \tTraining Loss:  1405.383109375\n",
      "\tEpoch 397 complete! \tTraining Loss:  1405.3990277777777\n",
      "\tEpoch 398 complete! \tTraining Loss:  1405.3485538194445\n",
      "\tEpoch 399 complete! \tTraining Loss:  1405.3465902777778\n",
      "\tEpoch 400 complete! \tTraining Loss:  1405.4287934027777\n",
      "\tEpoch 401 complete! \tTraining Loss:  1405.3625711805555\n",
      "\tEpoch 402 complete! \tTraining Loss:  1405.3937378472222\n",
      "\tEpoch 403 complete! \tTraining Loss:  1405.4096527777779\n",
      "\tEpoch 404 complete! \tTraining Loss:  1405.2542309027779\n",
      "\tEpoch 405 complete! \tTraining Loss:  1405.275689236111\n",
      "\tEpoch 406 complete! \tTraining Loss:  1405.2088333333334\n",
      "\tEpoch 407 complete! \tTraining Loss:  1405.2341545138888\n",
      "\tEpoch 408 complete! \tTraining Loss:  1405.166845486111\n",
      "\tEpoch 409 complete! \tTraining Loss:  1405.191342013889\n",
      "\tEpoch 410 complete! \tTraining Loss:  1405.1735017361111\n",
      "\tEpoch 411 complete! \tTraining Loss:  1405.196625\n",
      "\tEpoch 412 complete! \tTraining Loss:  1405.1655694444444\n",
      "\tEpoch 413 complete! \tTraining Loss:  1405.1940190972223\n",
      "\tEpoch 414 complete! \tTraining Loss:  1405.4473541666666\n",
      "\tEpoch 415 complete! \tTraining Loss:  1405.045388888889\n",
      "\tEpoch 416 complete! \tTraining Loss:  1405.000092013889\n",
      "\tEpoch 417 complete! \tTraining Loss:  1404.9959739583333\n",
      "\tEpoch 418 complete! \tTraining Loss:  1404.9363350694443\n",
      "\tEpoch 419 complete! \tTraining Loss:  1404.9784010416668\n",
      "\tEpoch 420 complete! \tTraining Loss:  1404.9007916666667\n",
      "\tEpoch 421 complete! \tTraining Loss:  1404.9681979166667\n",
      "\tEpoch 422 complete! \tTraining Loss:  1404.8832291666668\n",
      "\tEpoch 423 complete! \tTraining Loss:  1404.840375\n",
      "\tEpoch 424 complete! \tTraining Loss:  1404.8432482638889\n",
      "\tEpoch 425 complete! \tTraining Loss:  1404.8133090277777\n",
      "\tEpoch 426 complete! \tTraining Loss:  1404.7289097222222\n",
      "\tEpoch 427 complete! \tTraining Loss:  1404.8154826388889\n",
      "\tEpoch 428 complete! \tTraining Loss:  1404.7746527777779\n",
      "\tEpoch 429 complete! \tTraining Loss:  1404.8062725694444\n",
      "\tEpoch 430 complete! \tTraining Loss:  1404.6808315972223\n",
      "\tEpoch 431 complete! \tTraining Loss:  1404.7292916666668\n",
      "\tEpoch 432 complete! \tTraining Loss:  1404.6744079861112\n",
      "\tEpoch 433 complete! \tTraining Loss:  1404.6572100694445\n",
      "\tEpoch 434 complete! \tTraining Loss:  1404.6414965277777\n",
      "\tEpoch 435 complete! \tTraining Loss:  1404.593842013889\n",
      "\tEpoch 436 complete! \tTraining Loss:  1404.5644583333333\n",
      "\tEpoch 437 complete! \tTraining Loss:  1404.6086840277778\n",
      "\tEpoch 438 complete! \tTraining Loss:  1404.5094548611112\n",
      "\tEpoch 439 complete! \tTraining Loss:  1404.5120503472222\n",
      "\tEpoch 440 complete! \tTraining Loss:  1404.6599791666667\n",
      "\tEpoch 441 complete! \tTraining Loss:  1404.4443975694444\n",
      "\tEpoch 442 complete! \tTraining Loss:  1404.4246527777777\n",
      "\tEpoch 443 complete! \tTraining Loss:  1404.5426128472222\n",
      "\tEpoch 444 complete! \tTraining Loss:  1404.5582604166666\n",
      "\tEpoch 445 complete! \tTraining Loss:  1404.3778576388888\n",
      "\tEpoch 446 complete! \tTraining Loss:  1404.5253177083334\n",
      "\tEpoch 447 complete! \tTraining Loss:  1404.3398524305555\n",
      "\tEpoch 448 complete! \tTraining Loss:  1404.3472413194445\n",
      "\tEpoch 449 complete! \tTraining Loss:  1404.2725364583334\n",
      "\tEpoch 450 complete! \tTraining Loss:  1404.2651423611112\n",
      "\tEpoch 451 complete! \tTraining Loss:  1404.3133576388889\n",
      "\tEpoch 452 complete! \tTraining Loss:  1404.2637222222222\n",
      "\tEpoch 453 complete! \tTraining Loss:  1404.255798611111\n",
      "\tEpoch 454 complete! \tTraining Loss:  1404.2173975694445\n",
      "\tEpoch 455 complete! \tTraining Loss:  1404.2110503472222\n",
      "\tEpoch 456 complete! \tTraining Loss:  1404.1708975694444\n",
      "\tEpoch 457 complete! \tTraining Loss:  1404.2130763888888\n",
      "\tEpoch 458 complete! \tTraining Loss:  1404.1751614583334\n",
      "\tEpoch 459 complete! \tTraining Loss:  1404.2040364583333\n",
      "\tEpoch 460 complete! \tTraining Loss:  1404.0914149305556\n",
      "\tEpoch 461 complete! \tTraining Loss:  1404.0738940972221\n",
      "\tEpoch 462 complete! \tTraining Loss:  1404.052921875\n",
      "\tEpoch 463 complete! \tTraining Loss:  1403.9795555555556\n",
      "\tEpoch 464 complete! \tTraining Loss:  1404.0278402777778\n",
      "\tEpoch 465 complete! \tTraining Loss:  1403.9596059027779\n",
      "\tEpoch 466 complete! \tTraining Loss:  1404.0365538194444\n",
      "\tEpoch 467 complete! \tTraining Loss:  1403.9183350694445\n",
      "\tEpoch 468 complete! \tTraining Loss:  1404.0122534722223\n",
      "\tEpoch 469 complete! \tTraining Loss:  1404.0169322916668\n",
      "\tEpoch 470 complete! \tTraining Loss:  1403.8406371527778\n",
      "\tEpoch 471 complete! \tTraining Loss:  1403.786767361111\n",
      "\tEpoch 472 complete! \tTraining Loss:  1403.8326631944444\n",
      "\tEpoch 473 complete! \tTraining Loss:  1403.8341979166667\n",
      "\tEpoch 474 complete! \tTraining Loss:  1403.8420798611112\n",
      "\tEpoch 475 complete! \tTraining Loss:  1403.8484982638888\n",
      "\tEpoch 476 complete! \tTraining Loss:  1403.8699409722221\n",
      "\tEpoch 477 complete! \tTraining Loss:  1403.69978125\n",
      "\tEpoch 478 complete! \tTraining Loss:  1403.7263836805555\n",
      "\tEpoch 479 complete! \tTraining Loss:  1403.7944947916667\n",
      "\tEpoch 480 complete! \tTraining Loss:  1403.6612951388888\n",
      "\tEpoch 481 complete! \tTraining Loss:  1403.5763194444444\n",
      "\tEpoch 482 complete! \tTraining Loss:  1403.5992361111112\n",
      "\tEpoch 483 complete! \tTraining Loss:  1403.7431614583334\n",
      "\tEpoch 484 complete! \tTraining Loss:  1403.5262604166667\n",
      "\tEpoch 485 complete! \tTraining Loss:  1403.63615625\n",
      "\tEpoch 486 complete! \tTraining Loss:  1403.6047517361112\n",
      "\tEpoch 487 complete! \tTraining Loss:  1403.6195746527778\n",
      "\tEpoch 488 complete! \tTraining Loss:  1403.4788246527778\n",
      "\tEpoch 489 complete! \tTraining Loss:  1403.5294496527779\n",
      "\tEpoch 490 complete! \tTraining Loss:  1403.486032986111\n",
      "\tEpoch 491 complete! \tTraining Loss:  1403.4584895833334\n",
      "\tEpoch 492 complete! \tTraining Loss:  1403.403467013889\n",
      "\tEpoch 493 complete! \tTraining Loss:  1403.4940590277777\n",
      "\tEpoch 494 complete! \tTraining Loss:  1403.3606336805556\n",
      "\tEpoch 495 complete! \tTraining Loss:  1403.5218836805554\n",
      "\tEpoch 496 complete! \tTraining Loss:  1403.405171875\n",
      "\tEpoch 497 complete! \tTraining Loss:  1403.375828125\n",
      "\tEpoch 498 complete! \tTraining Loss:  1403.3079496527778\n",
      "\tEpoch 499 complete! \tTraining Loss:  1403.335140625\n",
      "\tEpoch 500 complete! \tTraining Loss:  1403.2473854166667\n"
     ]
    }
   ],
   "source": [
    "# Training\n",
    "\n",
    "model.train()\n",
    "for epoch in range(epochs):\n",
    "    zxmean = torch.zeros(latent_dim,9)\n",
    "    train_loss = 0\n",
    "    \n",
    "    for batch_idx, (x, _) in enumerate(train_loader):\n",
    "        x = x.view(batch_size, x_dim)\n",
    "        # x = x.view(batch_size, 1,52,52)\n",
    "        x = x.to(DEVICE)\n",
    "        \n",
    "        x_hat, mean, log_var = model(x)\n",
    "        loss = loss_function(x, x_hat, mean, log_var)\n",
    "        \n",
    "        train_loss += loss.item()\n",
    "        loss.backward()\n",
    "        optimizer_VAE.step()\n",
    "        optimizer_VAE.zero_grad()\n",
    " \n",
    "    print(\"\\tEpoch\", epoch + 1, \"complete!\", \"\\tTraining Loss: \", train_loss / (batch_idx*batch_size),)"
   ]
  },
  {
   "cell_type": "markdown",
   "metadata": {
    "id": "GcdmCe8tPoXx"
   },
   "source": [
    "##### Latent samples and repeating"
   ]
  },
  {
   "cell_type": "code",
   "execution_count": 41,
   "metadata": {
    "executionInfo": {
     "elapsed": 934,
     "status": "ok",
     "timestamp": 1669003729919,
     "user": {
      "displayName": "Indu Avinash",
      "userId": "17431670914384041031"
     },
     "user_tz": -330
    },
    "id": "165y_zUMPsoC"
   },
   "outputs": [],
   "source": [
    "train_loader1 = DataLoader(dataset=train_data, batch_size=ximb_samples.shape[0], shuffle=False, num_workers=num_workers)\n",
    "#for batch_idx, (x,_, _) in enumerate(train_loader1):\n",
    "for batch_idx, (x, y) in enumerate(train_loader1):\n",
    "  x = x.view(ximb_samples.shape[0], x_dim)\n",
    "  # x = x.view(ximb_samples.shape[0], 1,52,52)\n",
    "  x = x.to(DEVICE)\n",
    "  y = y.view(ximb_samples.shape[0], 1)\n",
    "  y = y.to(DEVICE)\n",
    "  \n",
    "_, z_mean_vae, _ = model(x) \n",
    "yimb_samples_vae =  y\n",
    "\n",
    "for imbclass in range(1,10):\n",
    "  zxmean[:,imbclass-1] =  torch.mean(z_mean_vae[(yimb_samples_vae==imbclass).reshape(ximb_samples.shape[0])],axis =0) \n",
    "  zxmean = zxmean.to(DEVICE)\n",
    "  cls_sel =(y==0).reshape(ximb_samples.shape[0])\n",
    "  z_mean_repeat = z_mean_vae[cls_sel,:]\n",
    "  y_repeat = y[cls_sel]\n",
    "  for i in range(1,10):\n",
    "    cls_sel =(y==i).reshape(ximb_samples.shape[0])\n",
    "    rpt_index = maj_class//y[y==i].shape[0]\n",
    "    if (maj_class%(y[y==i].shape[0]) != 0):\n",
    "      rpt_index += 1\n",
    "      repeat_zmean = (z_mean_vae[cls_sel,:].repeat(rpt_index,1))[0:maj_class,:]\n",
    "      repeat_y = (y[cls_sel].repeat(rpt_index,1))[0:maj_class,:]      \n",
    "      z_mean_repeat = torch.cat((z_mean_repeat,repeat_zmean),0)\n",
    "      y_repeat = torch.cat((y_repeat,repeat_y),0)"
   ]
  },
  {
   "cell_type": "code",
   "execution_count": 42,
   "metadata": {
    "executionInfo": {
     "elapsed": 594,
     "status": "ok",
     "timestamp": 1669003732382,
     "user": {
      "displayName": "Indu Avinash",
      "userId": "17431670914384041031"
     },
     "user_tz": -330
    },
    "id": "_kDvNrdEm79S"
   },
   "outputs": [],
   "source": [
    "z_mean1 =  z_mean_repeat\n",
    "yimb_samples =  y_repeat\n",
    "train_data_LD = TensorDataset(z_mean1,yimb_samples)\n",
    "train_loader_GAN = DataLoader(dataset=train_data_LD, batch_size=batch_size_GAN, shuffle=True, num_workers=num_workers)\n"
   ]
  },
  {
   "cell_type": "markdown",
   "metadata": {
    "id": "EOE-fNUSQLUB"
   },
   "source": [
    "###### GAN training"
   ]
  },
  {
   "cell_type": "code",
   "execution_count": 43,
   "metadata": {
    "executionInfo": {
     "elapsed": 4,
     "status": "ok",
     "timestamp": 1669003737457,
     "user": {
      "displayName": "Indu Avinash",
      "userId": "17431670914384041031"
     },
     "user_tz": -330
    },
    "id": "1N86Z4vt-mgW"
   },
   "outputs": [],
   "source": [
    "epochs = 120"
   ]
  },
  {
   "cell_type": "code",
   "execution_count": 44,
   "metadata": {
    "colab": {
     "base_uri": "https://localhost:8080/"
    },
    "executionInfo": {
     "elapsed": 1404733,
     "status": "ok",
     "timestamp": 1669005148451,
     "user": {
      "displayName": "Indu Avinash",
      "userId": "17431670914384041031"
     },
     "user_tz": -330
    },
    "id": "UAM5CkzeQPVX",
    "outputId": "e4911ffa-8db2-48d8-e5b8-270a2425aee2"
   },
   "outputs": [
    {
     "name": "stdout",
     "output_type": "stream",
     "text": [
      "1\n",
      "2\n",
      "3\n",
      "4\n",
      "5\n",
      "6\n",
      "7\n",
      "8\n",
      "9\n"
     ]
    }
   ],
   "source": [
    "for imbclass in range(1,10): \n",
    "  print(imbclass)  \n",
    "  for epoch in range(epochs):\n",
    "        \n",
    "    d_optim.zero_grad()\n",
    "    g_optim.zero_grad()   \n",
    "     \n",
    "    generator = saved_generator[imbclass-1]    \n",
    "    g_optim = saved_g_optim[imbclass-1]\n",
    "    \n",
    "    generator_t,discriminator_t = train4classes10(generator,discriminator,train_loader_GAN,zxmean[:,imbclass-1])\n",
    "    saved_generator.append(generator_t)\n",
    "    generator = generator_t\n",
    "    discriminator = discriminator_t\n",
    "\n",
    "    d_optim.step()\n",
    "    g_optim.step()\n",
    "    \n"
   ]
  },
  {
   "cell_type": "markdown",
   "metadata": {
    "id": "oCeAmz29ROia"
   },
   "source": [
    "##### Synthetic sample generation"
   ]
  },
  {
   "cell_type": "code",
   "execution_count": 45,
   "metadata": {
    "executionInfo": {
     "elapsed": 3,
     "status": "ok",
     "timestamp": 1669005252999,
     "user": {
      "displayName": "Indu Avinash",
      "userId": "17431670914384041031"
     },
     "user_tz": -330
    },
    "id": "eFxxw1jfRUWB"
   },
   "outputs": [],
   "source": [
    "z_mean1 =  z_mean_vae #.detach().numpy() \n",
    "\n",
    "yimb_samples_duplicate = yimb_samples_vae#.copy()\n",
    "for gen_ind in range(1,10):\n",
    "  syn_gen = maj_class -  Trn_imb_set[gen_ind]\n",
    "  gen1 = saved_generator[gen_ind-1]\n",
    "  gen1.eval()\n",
    "  fake1 = gen1(noise(syn_gen),(torch.ones(syn_gen)*gen_ind).type(torch.IntTensor).to(DEVICE))\n",
    "  z_mean1 = torch.cat((z_mean1,fake1),axis=0)\n",
    "  yimb_samples_duplicate = torch.cat((yimb_samples_duplicate.squeeze(),(torch.ones((syn_gen,))*gen_ind).to(DEVICE)))\n",
    "  shuffled_indices = torch.randperm((z_mean1.shape[0])) #return a permutation of the indices\n",
    "  \n",
    "  z_mean1 = z_mean1[shuffled_indices].to(torch.float32)\n",
    "  yimb_samples_duplicate = yimb_samples_duplicate[shuffled_indices].to(torch.uint8)"
   ]
  },
  {
   "cell_type": "code",
   "execution_count": 46,
   "metadata": {
    "executionInfo": {
     "elapsed": 3,
     "status": "ok",
     "timestamp": 1669005256307,
     "user": {
      "displayName": "Indu Avinash",
      "userId": "17431670914384041031"
     },
     "user_tz": -330
    },
    "id": "kgFEXvf1Ox-6"
   },
   "outputs": [],
   "source": [
    "data_synth = TensorDataset(z_mean1,yimb_samples_duplicate)   \n",
    "train_loader_CLF = DataLoader(dataset=data_synth, batch_size=batch_size_CLF, shuffle=True, num_workers=num_workers)"
   ]
  },
  {
   "cell_type": "code",
   "execution_count": 47,
   "metadata": {
    "colab": {
     "base_uri": "https://localhost:8080/"
    },
    "executionInfo": {
     "elapsed": 6,
     "status": "ok",
     "timestamp": 1669005260165,
     "user": {
      "displayName": "Indu Avinash",
      "userId": "17431670914384041031"
     },
     "user_tz": -330
    },
    "id": "q6ZVxJcV8NcF",
    "outputId": "de7dee46-c93e-4056-a42f-711ea84e387b"
   },
   "outputs": [
    {
     "data": {
      "text/plain": [
       "torch.Size([9000, 32])"
      ]
     },
     "execution_count": 47,
     "metadata": {},
     "output_type": "execute_result"
    }
   ],
   "source": [
    "z_mean1.shape"
   ]
  },
  {
   "cell_type": "markdown",
   "metadata": {
    "id": "xIwSVCSPRizl"
   },
   "source": [
    "##### Classifier training"
   ]
  },
  {
   "cell_type": "code",
   "execution_count": 48,
   "metadata": {
    "executionInfo": {
     "elapsed": 484856,
     "status": "ok",
     "timestamp": 1669005749875,
     "user": {
      "displayName": "Indu Avinash",
      "userId": "17431670914384041031"
     },
     "user_tz": -330
    },
    "id": "COtbdoIqRl67"
   },
   "outputs": [],
   "source": [
    "epochs = 400\n",
    "for epoch in range(epochs):\n",
    "        \n",
    "    clf_lat.train()\n",
    "    clf_error = 0.0\n",
    "    clf_valid_error = 0.0\n",
    "    for batch_idx, (z_in,labels) in enumerate(train_loader_CLF):\n",
    "      #clf_optim.zero_grad()\n",
    "      z_in = z_in.view(batch_size_CLF, latent_dim)\n",
    "      z_in  = z_in.to(DEVICE)\n",
    "      #labels = labels.view(batch_size_CLF, 1)\n",
    "      labels  = labels.to(DEVICE)\n",
    "      #clf_error += \n",
    "      train_classifier(clf_optim, labels, z_in)\n",
    "\n",
    "    if (epoch >= 50 and epoch%5==0):\n",
    "      model.eval()\n",
    "      _, z_meantest, _ = model(xtest.to(torch.float32))\n",
    "      clf_lat.eval()\n",
    "      output = clf_lat((z_meantest))\n",
    "      clf_pred = torch.argmax(output,dim=1)\n",
    "      # Evaluation metrics\n",
    "      acsa, gm = metrics_aa_gm(clf_pred.cpu().detach(), ytest.cpu().detach()) \n",
    "      myfile.write(\"\\nEpoch=%s\" %str(epoch))\n",
    "      myfile.write(\"\\tACSA=%s\" %str(acsa))\n",
    "      myfile.write(\"\\tGM=%s\" %str(gm))\n",
    "\n",
    "    "
   ]
  },
  {
   "cell_type": "code",
   "execution_count": 49,
   "metadata": {
    "executionInfo": {
     "elapsed": 564,
     "status": "ok",
     "timestamp": 1669006760102,
     "user": {
      "displayName": "Indu Avinash",
      "userId": "17431670914384041031"
     },
     "user_tz": -330
    },
    "id": "FudSifrX7xxu"
   },
   "outputs": [],
   "source": [
    "myfile.close()"
   ]
  },
  {
   "cell_type": "code",
   "execution_count": 50,
   "metadata": {
    "executionInfo": {
     "elapsed": 537,
     "status": "ok",
     "timestamp": 1669006784405,
     "user": {
      "displayName": "Indu Avinash",
      "userId": "17431670914384041031"
     },
     "user_tz": -330
    },
    "id": "pQtGrheu_oKL"
   },
   "outputs": [],
   "source": [
    "import random\n",
    "import matplotlib.pyplot as plt"
   ]
  },
  {
   "cell_type": "code",
   "execution_count": 61,
   "metadata": {
    "colab": {
     "base_uri": "https://localhost:8080/",
     "height": 1000
    },
    "executionInfo": {
     "elapsed": 7043,
     "status": "ok",
     "timestamp": 1669007180465,
     "user": {
      "displayName": "Indu Avinash",
      "userId": "17431670914384041031"
     },
     "user_tz": -330
    },
    "id": "NxFjIOpjRBkv",
    "outputId": "d043e278-5f4d-4ef9-ae3b-68bd678a1a23"
   },
   "outputs": [
    {
     "name": "stdout",
     "output_type": "stream",
     "text": [
      "Genimages_wafer.png\n"
     ]
    },
    {
     "data": {
      "image/png": "[encoded data removed]",
      "text/plain": [
       "<Figure size 640x480 with 1 Axes>"
      ]
     },
     "metadata": {},
     "output_type": "display_data"
    }
   ],
   "source": [
    "    sizem = 52\n",
    "    tile_size = 9\n",
    "    x_tile = np.zeros((sizem,sizem*(tile_size)))\n",
    "    for gen_ind in range(1,10):\n",
    "      gen1 = saved_generator[gen_ind-1]\n",
    "      fake1 = gen1(noise(200),(torch.ones(200)*gen_ind).type(torch.IntTensor).to(DEVICE))\n",
    "      # fake1 = gen1(noise(200),(torch.ones(200)*gen_ind).type(torch.IntTensor)) #gen1(noise(4000)).detach()\n",
    "      n = random. randint(0,199)\n",
    "      x_gen = decoder(fake1[n])\n",
    "      x_gen = x_gen.reshape(sizem, sizem)\n",
    "#         i_in = ind//tile_size\n",
    "#         j_in = ind%tile_size\n",
    "      x_tile[0:sizem,(gen_ind-1)*sizem:(gen_ind)*sizem] = x_gen.cpu().detach()\n",
    "    \n",
    "   \n",
    "    fig = plt.figure()\n",
    "    filename = \"Genimages_wafer.png\" \n",
    "    print(filename)\n",
    "      \n",
    "    plt.imshow(x_tile,)\n",
    "    plt.savefig(filename)\n",
    "    \n",
    "    #plt.imshow(x_tile.detach().cpu().numpy())"
   ]
  },
  {
   "cell_type": "code",
   "execution_count": null,
   "metadata": {},
   "outputs": [],
   "source": []
  }
 ],
 "metadata": {
  "accelerator": "GPU",
  "colab": {
   "provenance": [
    {
     "file_id": "1PwdbF8PEMdmSqUtTZA6CSWE-rMWPD2vE",
     "timestamp": 1665646848414
    },
    {
     "file_id": "1zk6EyffG3JB8WDLNhUzuVStC-mFUqGtI",
     "timestamp": 1665642443806
    },
    {
     "file_id": "1uTRrEJVyOODWr7L1mehv0i40JvcckY1U",
     "timestamp": 1665508309657
    },
    {
     "file_id": "1tAX_jDM73M9WGd4s8BqfK4Ai1rrNIZQk",
     "timestamp": 1665494258185
    },
    {
     "file_id": "1NGv7mb9aGE02n3BF0HoXaV8_GVSAVXUE",
     "timestamp": 1664974660214
    },
    {
     "file_id": "1-8Bf5h6X89ds4sqsP7lBs8VhIe8qo1uV",
     "timestamp": 1664908180157
    },
    {
     "file_id": "1eGsyucOu2OBVcIUo8Tz3HU9qEQHl4X5Z",
     "timestamp": 1658734106109
    },
    {
     "file_id": "1oRD4XmHgCC7hK-Sv_Hc8Fk2MECM2S-Py",
     "timestamp": 1658492077467
    }
   ]
  },
  "gpuClass": "premium",
  "kernelspec": {
   "display_name": "Python 3 (ipykernel)",
   "language": "python",
   "name": "python3"
  },
  "language_info": {
   "codemirror_mode": {
    "name": "ipython",
    "version": 3
   },
   "file_extension": ".py",
   "mimetype": "text/x-python",
   "name": "python",
   "nbconvert_exporter": "python",
   "pygments_lexer": "ipython3",
   "version": "3.9.12"
  }
 },
 "nbformat": 4,
 "nbformat_minor": 1
}
